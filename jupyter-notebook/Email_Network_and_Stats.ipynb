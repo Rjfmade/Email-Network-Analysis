{
 "cells": [
  {
   "cell_type": "markdown",
   "metadata": {},
   "source": [
    "#  Email Network creation to excel"
   ]
  },
  {
   "cell_type": "code",
   "execution_count": 1,
   "metadata": {},
   "outputs": [],
   "source": [
    "import pandas as pd\n",
    "import numpy as np\n",
    "import networkx as nx\n",
    "from networkx.algorithms import bipartite"
   ]
  },
  {
   "cell_type": "code",
   "execution_count": 2,
   "metadata": {},
   "outputs": [],
   "source": [
    "#Load Edge List\n",
    "file = '../data/initial/email-edges.txt'\n",
    "edge_list = pd.read_table(file, delim_whitespace=True, names=('Senders', 'Recievers'))"
   ]
  },
  {
   "cell_type": "markdown",
   "metadata": {},
   "source": [
    "This is a randomly picked data set taken from: (Guimera, R, Danon, L, Diaz-Guilera, A, Giralt, F, Arenas, A.\n",
    "Phys. Rev. E 68 , art. no. 065103 (2003).) in order to ilustrate a simple Network Analysis retrieving general measures from it"
   ]
  },
  {
   "cell_type": "code",
   "execution_count": 3,
   "metadata": {},
   "outputs": [
    {
     "data": {
      "text/html": [
       "<div>\n",
       "<style scoped>\n",
       "    .dataframe tbody tr th:only-of-type {\n",
       "        vertical-align: middle;\n",
       "    }\n",
       "\n",
       "    .dataframe tbody tr th {\n",
       "        vertical-align: top;\n",
       "    }\n",
       "\n",
       "    .dataframe thead th {\n",
       "        text-align: right;\n",
       "    }\n",
       "</style>\n",
       "<table border=\"1\" class=\"dataframe\">\n",
       "  <thead>\n",
       "    <tr style=\"text-align: right;\">\n",
       "      <th></th>\n",
       "      <th>Senders</th>\n",
       "      <th>Recievers</th>\n",
       "    </tr>\n",
       "  </thead>\n",
       "  <tbody>\n",
       "    <tr>\n",
       "      <td>0</td>\n",
       "      <td>1</td>\n",
       "      <td>2</td>\n",
       "    </tr>\n",
       "    <tr>\n",
       "      <td>1</td>\n",
       "      <td>1</td>\n",
       "      <td>3</td>\n",
       "    </tr>\n",
       "    <tr>\n",
       "      <td>2</td>\n",
       "      <td>1</td>\n",
       "      <td>4</td>\n",
       "    </tr>\n",
       "    <tr>\n",
       "      <td>3</td>\n",
       "      <td>1</td>\n",
       "      <td>5</td>\n",
       "    </tr>\n",
       "    <tr>\n",
       "      <td>4</td>\n",
       "      <td>1</td>\n",
       "      <td>6</td>\n",
       "    </tr>\n",
       "  </tbody>\n",
       "</table>\n",
       "</div>"
      ],
      "text/plain": [
       "   Senders  Recievers\n",
       "0        1          2\n",
       "1        1          3\n",
       "2        1          4\n",
       "3        1          5\n",
       "4        1          6"
      ]
     },
     "execution_count": 3,
     "metadata": {},
     "output_type": "execute_result"
    }
   ],
   "source": [
    "edge_list.head(5)"
   ]
  },
  {
   "cell_type": "code",
   "execution_count": 4,
   "metadata": {},
   "outputs": [
    {
     "data": {
      "text/plain": [
       "1133"
      ]
     },
     "execution_count": 4,
     "metadata": {},
     "output_type": "execute_result"
    }
   ],
   "source": [
    "len(edge_list['Recievers'].unique())"
   ]
  },
  {
   "cell_type": "code",
   "execution_count": 13,
   "metadata": {},
   "outputs": [
    {
     "data": {
      "text/plain": [
       "10903"
      ]
     },
     "execution_count": 13,
     "metadata": {},
     "output_type": "execute_result"
    }
   ],
   "source": [
    "len(edge_list['Recievers'])"
   ]
  },
  {
   "cell_type": "markdown",
   "metadata": {},
   "source": [
    "# Creation of the Graph"
   ]
  },
  {
   "cell_type": "code",
   "execution_count": 7,
   "metadata": {},
   "outputs": [],
   "source": [
    "G = nx.read_edgelist(file)"
   ]
  },
  {
   "cell_type": "code",
   "execution_count": 9,
   "metadata": {},
   "outputs": [
    {
     "data": {
      "text/plain": [
       "1133"
      ]
     },
     "execution_count": 9,
     "metadata": {},
     "output_type": "execute_result"
    }
   ],
   "source": [
    "len(G.nodes())"
   ]
  },
  {
   "cell_type": "code",
   "execution_count": 10,
   "metadata": {},
   "outputs": [
    {
     "data": {
      "text/plain": [
       "5452"
      ]
     },
     "execution_count": 10,
     "metadata": {},
     "output_type": "execute_result"
    }
   ],
   "source": [
    "len(G.edges())"
   ]
  },
  {
   "cell_type": "markdown",
   "metadata": {},
   "source": [
    "The library that we are using avoid repetition of edges, therefore if Alice send a message to Bob, the edge is already created an it will not count the entry 'Bob send a message to Alice'. That explains the difference between the lenght of the edgelist (edge_list) and the Graph (G) "
   ]
  },
  {
   "cell_type": "markdown",
   "metadata": {},
   "source": [
    "We could create the graph using the edge_list to confirm it"
   ]
  },
  {
   "cell_type": "code",
   "execution_count": 26,
   "metadata": {},
   "outputs": [],
   "source": [
    "#Creating the Graph2\n",
    "G2 = nx.Graph()  \n",
    "G2.add_nodes_from(edge_list['Senders'].unique())  \n",
    "G2.add_edges_from(  \n",
    "     [(row['Recievers'], row['Senders']) for idx, row in edge_list.iterrows()])"
   ]
  },
  {
   "cell_type": "code",
   "execution_count": 29,
   "metadata": {},
   "outputs": [
    {
     "data": {
      "text/plain": [
       "1133"
      ]
     },
     "execution_count": 29,
     "metadata": {},
     "output_type": "execute_result"
    }
   ],
   "source": [
    "len(G2.nodes())"
   ]
  },
  {
   "cell_type": "code",
   "execution_count": 30,
   "metadata": {},
   "outputs": [
    {
     "data": {
      "text/plain": [
       "5452"
      ]
     },
     "execution_count": 30,
     "metadata": {},
     "output_type": "execute_result"
    }
   ],
   "source": [
    "len(G2.edges())"
   ]
  },
  {
   "cell_type": "markdown",
   "metadata": {},
   "source": [
    "# General Network Stats"
   ]
  },
  {
   "cell_type": "code",
   "execution_count": 33,
   "metadata": {},
   "outputs": [
    {
     "name": "stdout",
     "output_type": "stream",
     "text": [
      "PROYECTED SSO NETWORK\n",
      "Connected Network: True\n",
      "Number of Nodes: 1133\n",
      "Number of Edges: 5452\n",
      "Density: 0.0085017730219967\n",
      "Separated Components: 1\n",
      "Assortativity: 0.0782987692548041\n",
      "Average Clustering Coefficient: 0.2201760865041161\n",
      "Diameter : 8\n",
      "\n"
     ]
    }
   ],
   "source": [
    "Connected_Network = nx.is_connected(G)\n",
    "Density = len(G.edges())*2/(len(G.nodes())*(len(G.nodes())-1))\n",
    "Number_of_Edges = len(G.edges())\n",
    "Number_of_Nodes = len(G.nodes())\n",
    "Separated_Components = nx.number_connected_components(G)\n",
    "Assortativity = nx.degree_assortativity_coefficient(G)\n",
    "Clustering = nx.average_clustering(G)\n",
    "Diameter = nx.diameter(G)\n",
    "\n",
    "print(\n",
    "    \"PROYECTED SSO NETWORK\" + '\\n'\n",
    "        \"Connected Network: \" + str(Connected_Network) +'\\n'\n",
    "        \"Number of Nodes: \"+ str(Number_of_Nodes) +'\\n'\n",
    "        \"Number of Edges: \"+ str(Number_of_Edges) +'\\n'\n",
    "        \"Density: \"+ str(Density) +'\\n'\n",
    "        \"Separated Components: \"+ str(Separated_Components) +'\\n'\n",
    "        \"Assortativity: \"+ str(Assortativity) + '\\n'\n",
    "        \"Average Clustering Coefficient: \"+ str(Clustering) + '\\n'\n",
    "        \"Diameter : \" + str(Diameter) + '\\n'\n",
    "     )"
   ]
  },
  {
   "cell_type": "markdown",
   "metadata": {},
   "source": [
    "# Stats per node"
   ]
  },
  {
   "cell_type": "code",
   "execution_count": 40,
   "metadata": {},
   "outputs": [],
   "source": [
    "# Stats 1: Degree List -- For Excel:  df_degrees\n",
    "degrees = [(node,val) for (node, val) in G.degree()]\n",
    "df_degrees = pd.DataFrame(degrees)\n",
    "df_degrees.columns = [\"Senders\", \"Degree\"]\n",
    "df_degrees = df_degrees.set_index(\"Senders\")"
   ]
  },
  {
   "cell_type": "code",
   "execution_count": 43,
   "metadata": {},
   "outputs": [],
   "source": [
    "# Stats 2: Neighbour Degree -- For Excel:  df_nei_degrees\n",
    "df_nei_degrees = pd.DataFrame(nx.average_neighbor_degree(G).items())\n",
    "df_nei_degrees.columns = [\"Senders\", \"Neighbour Degree\"]\n",
    "df_nei_degrees = df_nei_degrees.set_index(\"Senders\")"
   ]
  },
  {
   "cell_type": "code",
   "execution_count": 44,
   "metadata": {},
   "outputs": [],
   "source": [
    "# Stats 3: Clustering -- For Excel:  df_cluster_node\n",
    "cluster_node = nx.clustering(G)\n",
    "df_cluster_node = pd.DataFrame(cluster_node.items())\n",
    "df_cluster_node.columns = [\"Senders\", \"Clustering\"]\n",
    "df_cluster_node = df_cluster_node.set_index(\"Senders\")"
   ]
  },
  {
   "cell_type": "code",
   "execution_count": 45,
   "metadata": {},
   "outputs": [],
   "source": [
    "# Stats 4: Eccentricity -- For Excel:  dist\n",
    "Eccentricity_G = nx.eccentricity(G)\n",
    "dist=pd.DataFrame(Eccentricity_G.items())\n",
    "dist.columns=['Senders', 'Eccentricity']\n",
    "dist=dist.set_index('Senders')"
   ]
  },
  {
   "cell_type": "code",
   "execution_count": 46,
   "metadata": {},
   "outputs": [],
   "source": [
    "# Stats 5.1: Degree Centrality -- For Excel:  df_degree_centrality\n",
    "degree_centrality=nx.degree_centrality(G)\n",
    "df_degree_centrality=pd.DataFrame(degree_centrality.items())\n",
    "df_degree_centrality.columns=[\"Senders\", \"Degree Centrality\"]\n",
    "df_degree_centrality=df_degree_centrality.set_index(\"Senders\")"
   ]
  },
  {
   "cell_type": "code",
   "execution_count": 47,
   "metadata": {},
   "outputs": [],
   "source": [
    "# Stats 5.2: Closeness Centrality  -- For Excel:  df_closeness_centrality\n",
    "closeness_centrality=nx.closeness_centrality(G)\n",
    "df_closeness_centrality=pd.DataFrame(closeness_centrality.items())\n",
    "df_closeness_centrality.columns=[\"Senders\", \"Closeness\"]\n",
    "df_closeness_centrality=df_closeness_centrality.set_index(\"Senders\")"
   ]
  },
  {
   "cell_type": "code",
   "execution_count": 48,
   "metadata": {},
   "outputs": [],
   "source": [
    "# Stats 5.3: Betweeness Centrality  -- For Excel:  df_betweeness_centrality\n",
    "betweeness_centrality=nx.betweenness_centrality(G)\n",
    "df_betweeness_centrality=pd.DataFrame(betweeness_centrality.items())\n",
    "df_betweeness_centrality.columns=[\"Senders\", \"Betweeness\"]\n",
    "df_betweeness_centrality=df_betweeness_centrality.set_index(\"Senders\")"
   ]
  },
  {
   "cell_type": "code",
   "execution_count": 49,
   "metadata": {},
   "outputs": [],
   "source": [
    "# Stats 5.4: Random Walk Centrality  -- For Excel:  df_rw_centrality\n",
    "rw_centrality=nx.current_flow_betweenness_centrality(G)\n",
    "df_rw_centrality=pd.DataFrame(rw_centrality.items())\n",
    "df_rw_centrality.columns=[\"Senders\", \"RandomWalk\"]\n",
    "df_rw_centrality=df_rw_centrality.set_index(\"Senders\")"
   ]
  },
  {
   "cell_type": "code",
   "execution_count": 50,
   "metadata": {},
   "outputs": [],
   "source": [
    "# Final Excel Creation\n",
    "df_full_excel = pd.concat([\n",
    "    df_degrees,\n",
    "    df_nei_degrees,\n",
    "    df_cluster_node,\n",
    "    dist,\n",
    "    df_degree_centrality,\n",
    "    df_closeness_centrality,\n",
    "    df_betweeness_centrality,\n",
    "    df_rw_centrality\n",
    "    ], \n",
    "    axis=1)"
   ]
  },
  {
   "cell_type": "code",
   "execution_count": 51,
   "metadata": {},
   "outputs": [],
   "source": [
    "file = '../data/output/Email_Network_Stats.xlsx'\n",
    "writer = pd.ExcelWriter(file)\n",
    "df_full_excel.to_excel(writer)\n",
    "writer.save()"
   ]
  },
  {
   "cell_type": "code",
   "execution_count": null,
   "metadata": {},
   "outputs": [],
   "source": []
  }
 ],
 "metadata": {
  "kernelspec": {
   "display_name": "Python 3",
   "language": "python",
   "name": "python3"
  },
  "language_info": {
   "codemirror_mode": {
    "name": "ipython",
    "version": 3
   },
   "file_extension": ".py",
   "mimetype": "text/x-python",
   "name": "python",
   "nbconvert_exporter": "python",
   "pygments_lexer": "ipython3",
   "version": "3.7.4"
  }
 },
 "nbformat": 4,
 "nbformat_minor": 4
}
