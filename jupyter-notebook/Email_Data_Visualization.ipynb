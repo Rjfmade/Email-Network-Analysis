{
 "cells": [
  {
   "cell_type": "markdown",
   "metadata": {},
   "source": [
    "# Key Data Figures from the Network"
   ]
  },
  {
   "cell_type": "code",
   "execution_count": 1,
   "metadata": {},
   "outputs": [],
   "source": [
    "import pandas as pd\n",
    "import numpy as np\n",
    "import matplotlib.pyplot as plt"
   ]
  },
  {
   "cell_type": "code",
   "execution_count": 2,
   "metadata": {},
   "outputs": [],
   "source": [
    "# Load edge list\n",
    "file = '../data/output/Email_Network_Stats.xlsx'\n",
    "stats_list = pd.read_excel(file) "
   ]
  },
  {
   "cell_type": "code",
   "execution_count": 3,
   "metadata": {},
   "outputs": [
    {
     "data": {
      "text/html": [
       "<div>\n",
       "<style scoped>\n",
       "    .dataframe tbody tr th:only-of-type {\n",
       "        vertical-align: middle;\n",
       "    }\n",
       "\n",
       "    .dataframe tbody tr th {\n",
       "        vertical-align: top;\n",
       "    }\n",
       "\n",
       "    .dataframe thead th {\n",
       "        text-align: right;\n",
       "    }\n",
       "</style>\n",
       "<table border=\"1\" class=\"dataframe\">\n",
       "  <thead>\n",
       "    <tr style=\"text-align: right;\">\n",
       "      <th></th>\n",
       "      <th>Degree</th>\n",
       "      <th>Neighbour Degree</th>\n",
       "      <th>Clustering</th>\n",
       "      <th>Eccentricity</th>\n",
       "      <th>Degree Centrality</th>\n",
       "      <th>Closeness</th>\n",
       "      <th>Betweeness</th>\n",
       "      <th>RandomWalk</th>\n",
       "    </tr>\n",
       "    <tr>\n",
       "      <th>Senders</th>\n",
       "      <th></th>\n",
       "      <th></th>\n",
       "      <th></th>\n",
       "      <th></th>\n",
       "      <th></th>\n",
       "      <th></th>\n",
       "      <th></th>\n",
       "      <th></th>\n",
       "    </tr>\n",
       "  </thead>\n",
       "  <tbody>\n",
       "    <tr>\n",
       "      <td>1</td>\n",
       "      <td>30</td>\n",
       "      <td>23.333333</td>\n",
       "      <td>0.227586</td>\n",
       "      <td>5</td>\n",
       "      <td>0.026502</td>\n",
       "      <td>0.349707</td>\n",
       "      <td>0.008363</td>\n",
       "      <td>0.014746</td>\n",
       "    </tr>\n",
       "    <tr>\n",
       "      <td>2</td>\n",
       "      <td>23</td>\n",
       "      <td>20.347826</td>\n",
       "      <td>0.292490</td>\n",
       "      <td>5</td>\n",
       "      <td>0.020318</td>\n",
       "      <td>0.327073</td>\n",
       "      <td>0.007507</td>\n",
       "      <td>0.013986</td>\n",
       "    </tr>\n",
       "    <tr>\n",
       "      <td>3</td>\n",
       "      <td>38</td>\n",
       "      <td>25.236842</td>\n",
       "      <td>0.196302</td>\n",
       "      <td>5</td>\n",
       "      <td>0.033569</td>\n",
       "      <td>0.366699</td>\n",
       "      <td>0.010189</td>\n",
       "      <td>0.016865</td>\n",
       "    </tr>\n",
       "    <tr>\n",
       "      <td>4</td>\n",
       "      <td>22</td>\n",
       "      <td>21.500000</td>\n",
       "      <td>0.264069</td>\n",
       "      <td>6</td>\n",
       "      <td>0.019435</td>\n",
       "      <td>0.326696</td>\n",
       "      <td>0.005032</td>\n",
       "      <td>0.011600</td>\n",
       "    </tr>\n",
       "    <tr>\n",
       "      <td>5</td>\n",
       "      <td>10</td>\n",
       "      <td>20.500000</td>\n",
       "      <td>0.088889</td>\n",
       "      <td>6</td>\n",
       "      <td>0.008834</td>\n",
       "      <td>0.315496</td>\n",
       "      <td>0.001348</td>\n",
       "      <td>0.005587</td>\n",
       "    </tr>\n",
       "    <tr>\n",
       "      <td>...</td>\n",
       "      <td>...</td>\n",
       "      <td>...</td>\n",
       "      <td>...</td>\n",
       "      <td>...</td>\n",
       "      <td>...</td>\n",
       "      <td>...</td>\n",
       "      <td>...</td>\n",
       "      <td>...</td>\n",
       "    </tr>\n",
       "    <tr>\n",
       "      <td>1129</td>\n",
       "      <td>1</td>\n",
       "      <td>5.000000</td>\n",
       "      <td>0.000000</td>\n",
       "      <td>7</td>\n",
       "      <td>0.000883</td>\n",
       "      <td>0.200319</td>\n",
       "      <td>0.000000</td>\n",
       "      <td>0.000000</td>\n",
       "    </tr>\n",
       "    <tr>\n",
       "      <td>1130</td>\n",
       "      <td>1</td>\n",
       "      <td>3.000000</td>\n",
       "      <td>0.000000</td>\n",
       "      <td>7</td>\n",
       "      <td>0.000883</td>\n",
       "      <td>0.200106</td>\n",
       "      <td>0.000000</td>\n",
       "      <td>0.000000</td>\n",
       "    </tr>\n",
       "    <tr>\n",
       "      <td>1131</td>\n",
       "      <td>1</td>\n",
       "      <td>4.000000</td>\n",
       "      <td>0.000000</td>\n",
       "      <td>7</td>\n",
       "      <td>0.000883</td>\n",
       "      <td>0.185513</td>\n",
       "      <td>0.000000</td>\n",
       "      <td>0.000000</td>\n",
       "    </tr>\n",
       "    <tr>\n",
       "      <td>1132</td>\n",
       "      <td>1</td>\n",
       "      <td>4.000000</td>\n",
       "      <td>0.000000</td>\n",
       "      <td>8</td>\n",
       "      <td>0.000883</td>\n",
       "      <td>0.189965</td>\n",
       "      <td>0.000000</td>\n",
       "      <td>0.000000</td>\n",
       "    </tr>\n",
       "    <tr>\n",
       "      <td>1133</td>\n",
       "      <td>3</td>\n",
       "      <td>1.666667</td>\n",
       "      <td>0.000000</td>\n",
       "      <td>8</td>\n",
       "      <td>0.002650</td>\n",
       "      <td>0.182169</td>\n",
       "      <td>0.000000</td>\n",
       "      <td>0.013809</td>\n",
       "    </tr>\n",
       "  </tbody>\n",
       "</table>\n",
       "<p>1133 rows × 8 columns</p>\n",
       "</div>"
      ],
      "text/plain": [
       "         Degree  Neighbour Degree  Clustering  Eccentricity  \\\n",
       "Senders                                                       \n",
       "1            30         23.333333    0.227586             5   \n",
       "2            23         20.347826    0.292490             5   \n",
       "3            38         25.236842    0.196302             5   \n",
       "4            22         21.500000    0.264069             6   \n",
       "5            10         20.500000    0.088889             6   \n",
       "...         ...               ...         ...           ...   \n",
       "1129          1          5.000000    0.000000             7   \n",
       "1130          1          3.000000    0.000000             7   \n",
       "1131          1          4.000000    0.000000             7   \n",
       "1132          1          4.000000    0.000000             8   \n",
       "1133          3          1.666667    0.000000             8   \n",
       "\n",
       "         Degree Centrality  Closeness  Betweeness  RandomWalk  \n",
       "Senders                                                        \n",
       "1                 0.026502   0.349707    0.008363    0.014746  \n",
       "2                 0.020318   0.327073    0.007507    0.013986  \n",
       "3                 0.033569   0.366699    0.010189    0.016865  \n",
       "4                 0.019435   0.326696    0.005032    0.011600  \n",
       "5                 0.008834   0.315496    0.001348    0.005587  \n",
       "...                    ...        ...         ...         ...  \n",
       "1129              0.000883   0.200319    0.000000    0.000000  \n",
       "1130              0.000883   0.200106    0.000000    0.000000  \n",
       "1131              0.000883   0.185513    0.000000    0.000000  \n",
       "1132              0.000883   0.189965    0.000000    0.000000  \n",
       "1133              0.002650   0.182169    0.000000    0.013809  \n",
       "\n",
       "[1133 rows x 8 columns]"
      ]
     },
     "execution_count": 3,
     "metadata": {},
     "output_type": "execute_result"
    }
   ],
   "source": [
    "stats_list.set_index('Senders')"
   ]
  },
  {
   "cell_type": "code",
   "execution_count": 4,
   "metadata": {},
   "outputs": [],
   "source": [
    "# Degree Visualization"
   ]
  },
  {
   "cell_type": "code",
   "execution_count": 5,
   "metadata": {},
   "outputs": [
    {
     "data": {
      "image/png": "[encoded data removed]",
      "text/plain": [
       "<Figure size 432x288 with 1 Axes>"
      ]
     },
     "metadata": {
      "needs_background": "light"
     },
     "output_type": "display_data"
    }
   ],
   "source": [
    "num_bins=25\n",
    "plt.hist(stats_list['Degree'], num_bins)\n",
    "plt.axvline(x=stats_list['Degree'].mean(), color='red', label='Average degree')\n",
    "plt.legend(loc='upper right')\n",
    "plt.xlabel('Node Degree')\n",
    "plt.ylabel('Number of nodes')\n",
    "\n",
    "file='../image/Email_degree.png'\n",
    "plt.savefig(file, bbox_inches='tight', dpi=200)\n",
    "plt.show()"
   ]
  },
  {
   "cell_type": "code",
   "execution_count": 6,
   "metadata": {},
   "outputs": [],
   "source": [
    "# Top 15 most connected people\n",
    "top_people=stats_list.sort_values(by='Degree', ascending=False).head(15)"
   ]
  },
  {
   "cell_type": "code",
   "execution_count": 7,
   "metadata": {},
   "outputs": [
    {
     "data": {
      "text/html": [
       "<div>\n",
       "<style scoped>\n",
       "    .dataframe tbody tr th:only-of-type {\n",
       "        vertical-align: middle;\n",
       "    }\n",
       "\n",
       "    .dataframe tbody tr th {\n",
       "        vertical-align: top;\n",
       "    }\n",
       "\n",
       "    .dataframe thead th {\n",
       "        text-align: right;\n",
       "    }\n",
       "</style>\n",
       "<table border=\"1\" class=\"dataframe\">\n",
       "  <thead>\n",
       "    <tr style=\"text-align: right;\">\n",
       "      <th></th>\n",
       "      <th>Degree</th>\n",
       "      <th>Neighbour Degree</th>\n",
       "      <th>Clustering</th>\n",
       "      <th>Eccentricity</th>\n",
       "      <th>Degree Centrality</th>\n",
       "      <th>Closeness</th>\n",
       "      <th>Betweeness</th>\n",
       "      <th>RandomWalk</th>\n",
       "    </tr>\n",
       "    <tr>\n",
       "      <th>Senders</th>\n",
       "      <th></th>\n",
       "      <th></th>\n",
       "      <th></th>\n",
       "      <th></th>\n",
       "      <th></th>\n",
       "      <th></th>\n",
       "      <th></th>\n",
       "      <th></th>\n",
       "    </tr>\n",
       "  </thead>\n",
       "  <tbody>\n",
       "    <tr>\n",
       "      <td>105</td>\n",
       "      <td>71</td>\n",
       "      <td>21.309859</td>\n",
       "      <td>0.105030</td>\n",
       "      <td>5</td>\n",
       "      <td>0.062721</td>\n",
       "      <td>0.378216</td>\n",
       "      <td>0.036931</td>\n",
       "      <td>0.034088</td>\n",
       "    </tr>\n",
       "    <tr>\n",
       "      <td>333</td>\n",
       "      <td>52</td>\n",
       "      <td>20.750000</td>\n",
       "      <td>0.070890</td>\n",
       "      <td>5</td>\n",
       "      <td>0.045936</td>\n",
       "      <td>0.382820</td>\n",
       "      <td>0.039490</td>\n",
       "      <td>0.033169</td>\n",
       "    </tr>\n",
       "    <tr>\n",
       "      <td>42</td>\n",
       "      <td>51</td>\n",
       "      <td>22.235294</td>\n",
       "      <td>0.102745</td>\n",
       "      <td>5</td>\n",
       "      <td>0.045053</td>\n",
       "      <td>0.377585</td>\n",
       "      <td>0.026024</td>\n",
       "      <td>0.027986</td>\n",
       "    </tr>\n",
       "    <tr>\n",
       "      <td>23</td>\n",
       "      <td>51</td>\n",
       "      <td>19.823529</td>\n",
       "      <td>0.060392</td>\n",
       "      <td>5</td>\n",
       "      <td>0.045053</td>\n",
       "      <td>0.381659</td>\n",
       "      <td>0.033463</td>\n",
       "      <td>0.031293</td>\n",
       "    </tr>\n",
       "    <tr>\n",
       "      <td>16</td>\n",
       "      <td>51</td>\n",
       "      <td>22.098039</td>\n",
       "      <td>0.145882</td>\n",
       "      <td>5</td>\n",
       "      <td>0.045053</td>\n",
       "      <td>0.346601</td>\n",
       "      <td>0.017843</td>\n",
       "      <td>0.024718</td>\n",
       "    </tr>\n",
       "    <tr>\n",
       "      <td>41</td>\n",
       "      <td>49</td>\n",
       "      <td>19.591837</td>\n",
       "      <td>0.076531</td>\n",
       "      <td>5</td>\n",
       "      <td>0.043286</td>\n",
       "      <td>0.374959</td>\n",
       "      <td>0.026499</td>\n",
       "      <td>0.028407</td>\n",
       "    </tr>\n",
       "    <tr>\n",
       "      <td>196</td>\n",
       "      <td>47</td>\n",
       "      <td>21.574468</td>\n",
       "      <td>0.135060</td>\n",
       "      <td>5</td>\n",
       "      <td>0.041519</td>\n",
       "      <td>0.358001</td>\n",
       "      <td>0.019789</td>\n",
       "      <td>0.022636</td>\n",
       "    </tr>\n",
       "    <tr>\n",
       "      <td>233</td>\n",
       "      <td>45</td>\n",
       "      <td>17.977778</td>\n",
       "      <td>0.049495</td>\n",
       "      <td>5</td>\n",
       "      <td>0.039753</td>\n",
       "      <td>0.373351</td>\n",
       "      <td>0.027717</td>\n",
       "      <td>0.028422</td>\n",
       "    </tr>\n",
       "    <tr>\n",
       "      <td>76</td>\n",
       "      <td>43</td>\n",
       "      <td>20.186047</td>\n",
       "      <td>0.078627</td>\n",
       "      <td>5</td>\n",
       "      <td>0.037986</td>\n",
       "      <td>0.374339</td>\n",
       "      <td>0.030118</td>\n",
       "      <td>0.028511</td>\n",
       "    </tr>\n",
       "    <tr>\n",
       "      <td>21</td>\n",
       "      <td>43</td>\n",
       "      <td>19.023256</td>\n",
       "      <td>0.095238</td>\n",
       "      <td>5</td>\n",
       "      <td>0.037986</td>\n",
       "      <td>0.357888</td>\n",
       "      <td>0.019476</td>\n",
       "      <td>0.026167</td>\n",
       "    </tr>\n",
       "    <tr>\n",
       "      <td>24</td>\n",
       "      <td>42</td>\n",
       "      <td>16.619048</td>\n",
       "      <td>0.102207</td>\n",
       "      <td>5</td>\n",
       "      <td>0.037102</td>\n",
       "      <td>0.336204</td>\n",
       "      <td>0.017216</td>\n",
       "      <td>0.027404</td>\n",
       "    </tr>\n",
       "    <tr>\n",
       "      <td>49</td>\n",
       "      <td>40</td>\n",
       "      <td>21.575000</td>\n",
       "      <td>0.144872</td>\n",
       "      <td>5</td>\n",
       "      <td>0.035336</td>\n",
       "      <td>0.350899</td>\n",
       "      <td>0.013736</td>\n",
       "      <td>0.018822</td>\n",
       "    </tr>\n",
       "    <tr>\n",
       "      <td>354</td>\n",
       "      <td>40</td>\n",
       "      <td>20.375000</td>\n",
       "      <td>0.124359</td>\n",
       "      <td>5</td>\n",
       "      <td>0.035336</td>\n",
       "      <td>0.352868</td>\n",
       "      <td>0.016438</td>\n",
       "      <td>0.023601</td>\n",
       "    </tr>\n",
       "    <tr>\n",
       "      <td>355</td>\n",
       "      <td>40</td>\n",
       "      <td>16.875000</td>\n",
       "      <td>0.066667</td>\n",
       "      <td>5</td>\n",
       "      <td>0.035336</td>\n",
       "      <td>0.357888</td>\n",
       "      <td>0.026388</td>\n",
       "      <td>0.029891</td>\n",
       "    </tr>\n",
       "    <tr>\n",
       "      <td>135</td>\n",
       "      <td>40</td>\n",
       "      <td>17.375000</td>\n",
       "      <td>0.032051</td>\n",
       "      <td>5</td>\n",
       "      <td>0.035336</td>\n",
       "      <td>0.369935</td>\n",
       "      <td>0.027264</td>\n",
       "      <td>0.028431</td>\n",
       "    </tr>\n",
       "  </tbody>\n",
       "</table>\n",
       "</div>"
      ],
      "text/plain": [
       "         Degree  Neighbour Degree  Clustering  Eccentricity  \\\n",
       "Senders                                                       \n",
       "105          71         21.309859    0.105030             5   \n",
       "333          52         20.750000    0.070890             5   \n",
       "42           51         22.235294    0.102745             5   \n",
       "23           51         19.823529    0.060392             5   \n",
       "16           51         22.098039    0.145882             5   \n",
       "41           49         19.591837    0.076531             5   \n",
       "196          47         21.574468    0.135060             5   \n",
       "233          45         17.977778    0.049495             5   \n",
       "76           43         20.186047    0.078627             5   \n",
       "21           43         19.023256    0.095238             5   \n",
       "24           42         16.619048    0.102207             5   \n",
       "49           40         21.575000    0.144872             5   \n",
       "354          40         20.375000    0.124359             5   \n",
       "355          40         16.875000    0.066667             5   \n",
       "135          40         17.375000    0.032051             5   \n",
       "\n",
       "         Degree Centrality  Closeness  Betweeness  RandomWalk  \n",
       "Senders                                                        \n",
       "105               0.062721   0.378216    0.036931    0.034088  \n",
       "333               0.045936   0.382820    0.039490    0.033169  \n",
       "42                0.045053   0.377585    0.026024    0.027986  \n",
       "23                0.045053   0.381659    0.033463    0.031293  \n",
       "16                0.045053   0.346601    0.017843    0.024718  \n",
       "41                0.043286   0.374959    0.026499    0.028407  \n",
       "196               0.041519   0.358001    0.019789    0.022636  \n",
       "233               0.039753   0.373351    0.027717    0.028422  \n",
       "76                0.037986   0.374339    0.030118    0.028511  \n",
       "21                0.037986   0.357888    0.019476    0.026167  \n",
       "24                0.037102   0.336204    0.017216    0.027404  \n",
       "49                0.035336   0.350899    0.013736    0.018822  \n",
       "354               0.035336   0.352868    0.016438    0.023601  \n",
       "355               0.035336   0.357888    0.026388    0.029891  \n",
       "135               0.035336   0.369935    0.027264    0.028431  "
      ]
     },
     "execution_count": 7,
     "metadata": {},
     "output_type": "execute_result"
    }
   ],
   "source": [
    "top_people.set_index('Senders')"
   ]
  },
  {
   "cell_type": "code",
   "execution_count": 8,
   "metadata": {},
   "outputs": [],
   "source": [
    "# Assortativity"
   ]
  },
  {
   "cell_type": "code",
   "execution_count": 9,
   "metadata": {},
   "outputs": [
    {
     "data": {
      "text/html": [
       "<div>\n",
       "<style scoped>\n",
       "    .dataframe tbody tr th:only-of-type {\n",
       "        vertical-align: middle;\n",
       "    }\n",
       "\n",
       "    .dataframe tbody tr th {\n",
       "        vertical-align: top;\n",
       "    }\n",
       "\n",
       "    .dataframe thead th {\n",
       "        text-align: right;\n",
       "    }\n",
       "</style>\n",
       "<table border=\"1\" class=\"dataframe\">\n",
       "  <thead>\n",
       "    <tr style=\"text-align: right;\">\n",
       "      <th></th>\n",
       "      <th>Degree</th>\n",
       "      <th>Neighbour Degree</th>\n",
       "    </tr>\n",
       "    <tr>\n",
       "      <th>Senders</th>\n",
       "      <th></th>\n",
       "      <th></th>\n",
       "    </tr>\n",
       "  </thead>\n",
       "  <tbody>\n",
       "    <tr>\n",
       "      <td>1</td>\n",
       "      <td>30</td>\n",
       "      <td>23.333333</td>\n",
       "    </tr>\n",
       "    <tr>\n",
       "      <td>2</td>\n",
       "      <td>23</td>\n",
       "      <td>20.347826</td>\n",
       "    </tr>\n",
       "    <tr>\n",
       "      <td>3</td>\n",
       "      <td>38</td>\n",
       "      <td>25.236842</td>\n",
       "    </tr>\n",
       "    <tr>\n",
       "      <td>4</td>\n",
       "      <td>22</td>\n",
       "      <td>21.500000</td>\n",
       "    </tr>\n",
       "    <tr>\n",
       "      <td>5</td>\n",
       "      <td>10</td>\n",
       "      <td>20.500000</td>\n",
       "    </tr>\n",
       "    <tr>\n",
       "      <td>...</td>\n",
       "      <td>...</td>\n",
       "      <td>...</td>\n",
       "    </tr>\n",
       "    <tr>\n",
       "      <td>1129</td>\n",
       "      <td>1</td>\n",
       "      <td>5.000000</td>\n",
       "    </tr>\n",
       "    <tr>\n",
       "      <td>1130</td>\n",
       "      <td>1</td>\n",
       "      <td>3.000000</td>\n",
       "    </tr>\n",
       "    <tr>\n",
       "      <td>1131</td>\n",
       "      <td>1</td>\n",
       "      <td>4.000000</td>\n",
       "    </tr>\n",
       "    <tr>\n",
       "      <td>1132</td>\n",
       "      <td>1</td>\n",
       "      <td>4.000000</td>\n",
       "    </tr>\n",
       "    <tr>\n",
       "      <td>1133</td>\n",
       "      <td>3</td>\n",
       "      <td>1.666667</td>\n",
       "    </tr>\n",
       "  </tbody>\n",
       "</table>\n",
       "<p>1133 rows × 2 columns</p>\n",
       "</div>"
      ],
      "text/plain": [
       "         Degree  Neighbour Degree\n",
       "Senders                          \n",
       "1            30         23.333333\n",
       "2            23         20.347826\n",
       "3            38         25.236842\n",
       "4            22         21.500000\n",
       "5            10         20.500000\n",
       "...         ...               ...\n",
       "1129          1          5.000000\n",
       "1130          1          3.000000\n",
       "1131          1          4.000000\n",
       "1132          1          4.000000\n",
       "1133          3          1.666667\n",
       "\n",
       "[1133 rows x 2 columns]"
      ]
     },
     "execution_count": 9,
     "metadata": {},
     "output_type": "execute_result"
    }
   ],
   "source": [
    "df_assort= stats_list[['Senders','Degree','Neighbour Degree']]\n",
    "df_assort.set_index('Senders')"
   ]
  },
  {
   "cell_type": "code",
   "execution_count": 10,
   "metadata": {},
   "outputs": [],
   "source": [
    "df_assort_av=pd.DataFrame(df_assort['Neighbour Degree'].groupby(df_assort['Degree']).mean())"
   ]
  },
  {
   "cell_type": "code",
   "execution_count": 11,
   "metadata": {},
   "outputs": [
    {
     "data": {
      "image/png": "[encoded data removed]",
      "text/plain": [
       "<Figure size 432x288 with 1 Axes>"
      ]
     },
     "metadata": {
      "needs_background": "light"
     },
     "output_type": "display_data"
    }
   ],
   "source": [
    "file='../image/Email_assortativity.png'\n",
    "plt.scatter(df_assort['Degree'], df_assort['Neighbour Degree'])\n",
    "plt.plot(df_assort_av.index, df_assort_av['Neighbour Degree'], color='black', label='Average')\n",
    "plt.axvline(x=stats_list['Degree'].mean(), color='red', label='Average degree of graph')\n",
    "plt.xlabel('Node degree')\n",
    "plt.ylabel('Average degree of neighbours')\n",
    "plt.legend(loc='upper right')\n",
    "plt.savefig(file, bbox_inches='tight', dpi=200)\n",
    "plt.show()"
   ]
  },
  {
   "cell_type": "code",
   "execution_count": 12,
   "metadata": {},
   "outputs": [],
   "source": [
    "#Clustering"
   ]
  },
  {
   "cell_type": "code",
   "execution_count": 13,
   "metadata": {},
   "outputs": [
    {
     "data": {
      "image/png": "[encoded data removed]",
      "text/plain": [
       "<Figure size 432x288 with 1 Axes>"
      ]
     },
     "metadata": {
      "needs_background": "light"
     },
     "output_type": "display_data"
    }
   ],
   "source": [
    "df_cluster_node= stats_list[['Senders','Degree','Clustering']]\n",
    "df_assort.set_index('Senders')\n",
    "\n",
    "plt.axhline(y=stats_list['Clustering'].mean(), color='red', label='Average Clustering Coeficient')\n",
    "plt.legend(loc='upper right')\n",
    "\n",
    "file='../image/Email_clustering.png'\n",
    "plt.scatter(df_cluster_node['Degree'], df_cluster_node['Clustering'])\n",
    "plt.xlabel('Node degree')\n",
    "plt.ylabel('Average clustering coefficient')\n",
    "plt.savefig(file, bbox_inches='tight', dpi=200)\n",
    "plt.show()"
   ]
  },
  {
   "cell_type": "markdown",
   "metadata": {},
   "source": [
    "Check --> probably due to stuctural reasons: different departments, chain of comand..."
   ]
  },
  {
   "cell_type": "code",
   "execution_count": 14,
   "metadata": {},
   "outputs": [],
   "source": [
    "# Eccentricity"
   ]
  },
  {
   "cell_type": "code",
   "execution_count": 49,
   "metadata": {},
   "outputs": [
    {
     "name": "stdout",
     "output_type": "stream",
     "text": [
      "ECCENTRICITY\n",
      "The minimun eccentricity is: 5\n",
      "The maximum eccentricity / Diameter of the Network is: 8\n",
      "There is 4 nodes with an eccentricity of 8\n",
      "There is 151 nodes with an eccentricity of 7\n",
      "There is 763 nodes with an eccentricity of 6\n",
      "There is 215 nodes with an eccentricity of 5\n",
      "Total of nodes: 1133\n"
     ]
    }
   ],
   "source": [
    "min_eccentricity = stats_list['Eccentricity'].min()\n",
    "max_eccentricity = stats_list['Eccentricity'].max()\n",
    "\n",
    "df_eccen_8 = len(stats_list['Senders'][stats_list['Eccentricity']==8])\n",
    "df_eccen_7 = len(stats_list['Senders'][stats_list['Eccentricity']==7])\n",
    "df_eccen_6 = len(stats_list['Senders'][stats_list['Eccentricity']==6])\n",
    "df_eccen_5 = len(stats_list['Senders'][stats_list['Eccentricity']==5])\n",
    "print(\n",
    "    \"ECCENTRICITY\" + '\\n'\n",
    "        \"The minimun eccentricity is: \" + str(min_eccentricity) + \"\\n\"\n",
    "        \"The maximum eccentricity / Diameter of the Network is: \" + str(max_eccentricity) + \"\\n\"\n",
    "        \"There is \" + str(df_eccen_8) +\" nodes with an eccentricity of 8\\n\"\n",
    "        \"There is \" + str(df_eccen_7) +\" nodes with an eccentricity of 7\\n\"\n",
    "        \"There is \" + str(df_eccen_6) +\" nodes with an eccentricity of 6\\n\"\n",
    "        \"There is \" + str(df_eccen_5) +\" nodes with an eccentricity of 5\\n\"\n",
    "        \"Total of nodes: \" + str(df_eccen_8 + df_eccen_7 + df_eccen_6 + df_eccen_5)\n",
    "    )\n"
   ]
  },
  {
   "cell_type": "code",
   "execution_count": 53,
   "metadata": {},
   "outputs": [
    {
     "data": {
      "text/plain": [
       "Text(0, 0.5, 'Eccentricity')"
      ]
     },
     "execution_count": 53,
     "metadata": {},
     "output_type": "execute_result"
    },
    {
     "data": {
      "image/png": "[encoded data removed]",
      "text/plain": [
       "<Figure size 432x288 with 1 Axes>"
      ]
     },
     "metadata": {
      "needs_background": "light"
     },
     "output_type": "display_data"
    }
   ],
   "source": [
    "plt.scatter(stats_list['Degree'], stats_list['Eccentricity'])\n",
    "plt.xlabel('Node degree')\n",
    "plt.ylabel('Eccentricity')"
   ]
  },
  {
   "cell_type": "code",
   "execution_count": 31,
   "metadata": {},
   "outputs": [],
   "source": [
    "# Centrality measures"
   ]
  },
  {
   "cell_type": "code",
   "execution_count": 42,
   "metadata": {},
   "outputs": [
    {
     "data": {
      "image/png": "[encoded data removed]",
      "text/plain": [
       "<Figure size 432x288 with 1 Axes>"
      ]
     },
     "metadata": {
      "needs_background": "light"
     },
     "output_type": "display_data"
    }
   ],
   "source": [
    "# Degree Centrality\n",
    "deg_cent=stats_list['Degree Centrality'].mean()\n",
    "num_bins=25\n",
    "plt.hist(stats_list['Degree Centrality'], num_bins)\n",
    "plt.axvline(x=deg_cent, color='red')\n",
    "plt.xlabel('Degree Centrality')\n",
    "plt.ylabel('Number of nodes')\n",
    "file='../image/Email_degree_centrality.png'\n",
    "plt.savefig(file, bbox_inches='tight', dpi=200)"
   ]
  },
  {
   "cell_type": "code",
   "execution_count": 43,
   "metadata": {},
   "outputs": [
    {
     "data": {
      "image/png": "[encoded data removed]",
      "text/plain": [
       "<Figure size 432x288 with 1 Axes>"
      ]
     },
     "metadata": {
      "needs_background": "light"
     },
     "output_type": "display_data"
    }
   ],
   "source": [
    "# Closeness Centrality\n",
    "clos_cent=stats_list['Closeness'].mean()\n",
    "num_bins=25\n",
    "plt.hist(stats_list['Closeness'], num_bins)\n",
    "plt.axvline(x=clos_cent, color='red')\n",
    "plt.xlabel('Closeness')\n",
    "plt.ylabel('Number of nodes')\n",
    "file='../image/Email_closeness_centrality.png'\n",
    "plt.savefig(file, bbox_inches='tight', dpi=200)"
   ]
  },
  {
   "cell_type": "code",
   "execution_count": 54,
   "metadata": {},
   "outputs": [
    {
     "data": {
      "image/png": "[encoded data removed]",
      "text/plain": [
       "<Figure size 432x288 with 1 Axes>"
      ]
     },
     "metadata": {
      "needs_background": "light"
     },
     "output_type": "display_data"
    }
   ],
   "source": [
    "plt.scatter(stats_list['Degree'], stats_list['Closeness'])\n",
    "plt.xlabel('Node degree')\n",
    "plt.ylabel('Closeness centrality')\n",
    "file='../image/Email_closeness_to_degree.png'\n",
    "plt.savefig(file, bbox_inches='tight', dpi=200)"
   ]
  },
  {
   "cell_type": "code",
   "execution_count": 44,
   "metadata": {},
   "outputs": [
    {
     "data": {
      "image/png": "[encoded data removed]",
      "text/plain": [
       "<Figure size 432x288 with 1 Axes>"
      ]
     },
     "metadata": {
      "needs_background": "light"
     },
     "output_type": "display_data"
    }
   ],
   "source": [
    "# Betweeness Centrality\n",
    "bet_cent=stats_list['Betweeness'].mean()\n",
    "num_bins=25\n",
    "plt.hist(stats_list['Betweeness'], num_bins)\n",
    "plt.axvline(x=bet_cent, color='red')\n",
    "plt.xlabel('Betweeness')\n",
    "plt.ylabel('Number of nodes')\n",
    "file='../image/Email_betweeness_centrality.png'\n",
    "plt.savefig(file, bbox_inches='tight', dpi=200)"
   ]
  },
  {
   "cell_type": "code",
   "execution_count": 55,
   "metadata": {},
   "outputs": [
    {
     "data": {
      "image/png": "[encoded data removed]",
      "text/plain": [
       "<Figure size 432x288 with 1 Axes>"
      ]
     },
     "metadata": {
      "needs_background": "light"
     },
     "output_type": "display_data"
    }
   ],
   "source": [
    "plt.scatter(stats_list['Degree'], stats_list['Betweeness'])\n",
    "plt.xlabel('Node degree')\n",
    "plt.ylabel('Betweeness')\n",
    "file='../image/Email_betweeness_to_degree.png'\n",
    "plt.savefig(file, bbox_inches='tight', dpi=200)"
   ]
  },
  {
   "cell_type": "code",
   "execution_count": 45,
   "metadata": {},
   "outputs": [
    {
     "data": {
      "image/png": "[encoded data removed]",
      "text/plain": [
       "<Figure size 432x288 with 1 Axes>"
      ]
     },
     "metadata": {
      "needs_background": "light"
     },
     "output_type": "display_data"
    }
   ],
   "source": [
    "#Random Walk Centrality\n",
    "rw_cent=stats_list['RandomWalk'].mean()\n",
    "num_bins=25\n",
    "plt.hist(stats_list['RandomWalk'], num_bins)\n",
    "plt.axvline(x=rw_cent, color='red')\n",
    "plt.xlabel('Random Walk')\n",
    "plt.ylabel('Number of nodes')\n",
    "file='../image/Email_RandomWalk_centrality.png'\n",
    "plt.savefig(file, bbox_inches='tight', dpi=200)"
   ]
  },
  {
   "cell_type": "code",
   "execution_count": 56,
   "metadata": {},
   "outputs": [
    {
     "data": {
      "image/png": "[encoded data removed]",
      "text/plain": [
       "<Figure size 432x288 with 1 Axes>"
      ]
     },
     "metadata": {
      "needs_background": "light"
     },
     "output_type": "display_data"
    }
   ],
   "source": [
    "plt.scatter(stats_list['Degree'], stats_list['RandomWalk'])\n",
    "plt.xlabel('Node degree')\n",
    "plt.ylabel('RandomWalk')\n",
    "file='../image/Email_RandomWalk_to_degree.png'\n",
    "plt.savefig(file, bbox_inches='tight', dpi=200)"
   ]
  },
  {
   "cell_type": "code",
   "execution_count": null,
   "metadata": {},
   "outputs": [],
   "source": []
  }
 ],
 "metadata": {
  "kernelspec": {
   "display_name": "Python 3",
   "language": "python",
   "name": "python3"
  },
  "language_info": {
   "codemirror_mode": {
    "name": "ipython",
    "version": 3
   },
   "file_extension": ".py",
   "mimetype": "text/x-python",
   "name": "python",
   "nbconvert_exporter": "python",
   "pygments_lexer": "ipython3",
   "version": "3.7.4"
  }
 },
 "nbformat": 4,
 "nbformat_minor": 4
}
